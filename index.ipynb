{
 "cells": [
  {
   "cell_type": "code",
   "execution_count": 1,
   "metadata": {},
   "outputs": [],
   "source": [
    "import pandas as pd"
   ]
  },
  {
   "cell_type": "markdown",
   "metadata": {},
   "source": [
    "## Extraction"
   ]
  },
  {
   "cell_type": "code",
   "execution_count": 2,
   "metadata": {},
   "outputs": [],
   "source": [
    "travels_data = pd.read_csv('https://drive.google.com/uc?id=1muwnik-uFGTKBdHmcQN5z68rD7qmdG-b')"
   ]
  },
  {
   "cell_type": "code",
   "execution_count": 3,
   "metadata": {},
   "outputs": [
    {
     "data": {
      "text/plain": [
       "(418, 6)"
      ]
     },
     "execution_count": 3,
     "metadata": {},
     "output_type": "execute_result"
    }
   ],
   "source": [
    "travels_data.shape"
   ]
  },
  {
   "cell_type": "code",
   "execution_count": 4,
   "metadata": {},
   "outputs": [
    {
     "name": "stdout",
     "output_type": "stream",
     "text": [
      "<class 'pandas.core.frame.DataFrame'>\n",
      "RangeIndex: 418 entries, 0 to 417\n",
      "Data columns (total 6 columns):\n",
      " #   Column                 Non-Null Count  Dtype  \n",
      "---  ------                 --------------  -----  \n",
      " 0   Employee               418 non-null    object \n",
      " 1   Destination            418 non-null    object \n",
      " 2   Travel Start Date      418 non-null    object \n",
      " 3   Travel End Date        418 non-null    object \n",
      " 4   Actual Total Expenses  418 non-null    float64\n",
      " 5   Purpose Of Travel      415 non-null    object \n",
      "dtypes: float64(1), object(5)\n",
      "memory usage: 19.7+ KB\n"
     ]
    }
   ],
   "source": [
    "travels_data.info()"
   ]
  },
  {
   "cell_type": "code",
   "execution_count": null,
   "metadata": {},
   "outputs": [],
   "source": [
    "# Date is an object Dtype\n",
    "# Null Values in purpose of travel\n",
    "# Separate state and city\n",
    "# Separate names\n",
    "# Separate date values into day month year"
   ]
  },
  {
   "cell_type": "code",
   "execution_count": 5,
   "metadata": {},
   "outputs": [
    {
     "data": {
      "text/html": [
       "<div>\n",
       "<style scoped>\n",
       "    .dataframe tbody tr th:only-of-type {\n",
       "        vertical-align: middle;\n",
       "    }\n",
       "\n",
       "    .dataframe tbody tr th {\n",
       "        vertical-align: top;\n",
       "    }\n",
       "\n",
       "    .dataframe thead th {\n",
       "        text-align: right;\n",
       "    }\n",
       "</style>\n",
       "<table border=\"1\" class=\"dataframe\">\n",
       "  <thead>\n",
       "    <tr style=\"text-align: right;\">\n",
       "      <th></th>\n",
       "      <th>Employee</th>\n",
       "      <th>Destination</th>\n",
       "      <th>Travel Start Date</th>\n",
       "      <th>Travel End Date</th>\n",
       "      <th>Actual Total Expenses</th>\n",
       "      <th>Purpose Of Travel</th>\n",
       "    </tr>\n",
       "  </thead>\n",
       "  <tbody>\n",
       "    <tr>\n",
       "      <th>0</th>\n",
       "      <td>Aaron Salter</td>\n",
       "      <td>OCEAN CITY, MD</td>\n",
       "      <td>2017-05-31</td>\n",
       "      <td>2017-06-02</td>\n",
       "      <td>644.10</td>\n",
       "      <td>Conference</td>\n",
       "    </tr>\n",
       "    <tr>\n",
       "      <th>1</th>\n",
       "      <td>Abigail Ratnofsky</td>\n",
       "      <td>SAN DIEGO, CA</td>\n",
       "      <td>2016-01-24</td>\n",
       "      <td>2016-01-29</td>\n",
       "      <td>2962.70</td>\n",
       "      <td>Conference</td>\n",
       "    </tr>\n",
       "    <tr>\n",
       "      <th>2</th>\n",
       "      <td>Adam Kisthardt</td>\n",
       "      <td>ORLANDO, FL</td>\n",
       "      <td>2018-10-04</td>\n",
       "      <td>2018-10-09</td>\n",
       "      <td>1891.19</td>\n",
       "      <td>Conference</td>\n",
       "    </tr>\n",
       "    <tr>\n",
       "      <th>3</th>\n",
       "      <td>Adam P. Jones</td>\n",
       "      <td>OCEAN CITY, MD</td>\n",
       "      <td>2016-06-19</td>\n",
       "      <td>2016-06-21</td>\n",
       "      <td>324.36</td>\n",
       "      <td>Conference</td>\n",
       "    </tr>\n",
       "    <tr>\n",
       "      <th>4</th>\n",
       "      <td>Alan Butsch</td>\n",
       "      <td>SAN DIEGO, CA</td>\n",
       "      <td>2019-11-19</td>\n",
       "      <td>2019-11-22</td>\n",
       "      <td>2141.51</td>\n",
       "      <td>Conference</td>\n",
       "    </tr>\n",
       "    <tr>\n",
       "      <th>...</th>\n",
       "      <td>...</td>\n",
       "      <td>...</td>\n",
       "      <td>...</td>\n",
       "      <td>...</td>\n",
       "      <td>...</td>\n",
       "      <td>...</td>\n",
       "    </tr>\n",
       "    <tr>\n",
       "      <th>413</th>\n",
       "      <td>Warren Jensen!</td>\n",
       "      <td>OCEAN CITY, MD</td>\n",
       "      <td>2017-11-06</td>\n",
       "      <td>2017-11-09</td>\n",
       "      <td>502.45</td>\n",
       "      <td>Conference</td>\n",
       "    </tr>\n",
       "    <tr>\n",
       "      <th>414</th>\n",
       "      <td>Warp Jensen</td>\n",
       "      <td>OCEAN CITY, MD</td>\n",
       "      <td>2019-03-25</td>\n",
       "      <td>2019-03-26</td>\n",
       "      <td>78.00</td>\n",
       "      <td>Conference</td>\n",
       "    </tr>\n",
       "    <tr>\n",
       "      <th>415</th>\n",
       "      <td>Whitney Kujawa</td>\n",
       "      <td>OCEAN CITY, MD</td>\n",
       "      <td>2017-11-06</td>\n",
       "      <td>2017-11-09</td>\n",
       "      <td>567.00</td>\n",
       "      <td>Conference</td>\n",
       "    </tr>\n",
       "    <tr>\n",
       "      <th>416</th>\n",
       "      <td>William Kinna</td>\n",
       "      <td>CHARLOTTE, NC</td>\n",
       "      <td>2017-05-21</td>\n",
       "      <td>2017-05-26</td>\n",
       "      <td>2163.67</td>\n",
       "      <td>Conference</td>\n",
       "    </tr>\n",
       "    <tr>\n",
       "      <th>417</th>\n",
       "      <td>Xin Qi</td>\n",
       "      <td>OCEAN CITY, MD</td>\n",
       "      <td>2019-08-13</td>\n",
       "      <td>2019-08-17</td>\n",
       "      <td>2107.51</td>\n",
       "      <td>Conference</td>\n",
       "    </tr>\n",
       "  </tbody>\n",
       "</table>\n",
       "<p>418 rows × 6 columns</p>\n",
       "</div>"
      ],
      "text/plain": [
       "              Employee     Destination Travel Start Date Travel End Date  \\\n",
       "0         Aaron Salter  OCEAN CITY, MD        2017-05-31      2017-06-02   \n",
       "1    Abigail Ratnofsky   SAN DIEGO, CA        2016-01-24      2016-01-29   \n",
       "2       Adam Kisthardt     ORLANDO, FL        2018-10-04      2018-10-09   \n",
       "3        Adam P. Jones  OCEAN CITY, MD        2016-06-19      2016-06-21   \n",
       "4          Alan Butsch   SAN DIEGO, CA        2019-11-19      2019-11-22   \n",
       "..                 ...             ...               ...             ...   \n",
       "413     Warren Jensen!  OCEAN CITY, MD   2017-11-06           2017-11-09   \n",
       "414        Warp Jensen  OCEAN CITY, MD        2019-03-25      2019-03-26   \n",
       "415     Whitney Kujawa  OCEAN CITY, MD        2017-11-06      2017-11-09   \n",
       "416      William Kinna   CHARLOTTE, NC        2017-05-21      2017-05-26   \n",
       "417             Xin Qi  OCEAN CITY, MD        2019-08-13      2019-08-17   \n",
       "\n",
       "     Actual Total Expenses Purpose Of Travel  \n",
       "0                   644.10        Conference  \n",
       "1                  2962.70        Conference  \n",
       "2                  1891.19        Conference  \n",
       "3                   324.36        Conference  \n",
       "4                  2141.51        Conference  \n",
       "..                     ...               ...  \n",
       "413                 502.45        Conference  \n",
       "414                  78.00        Conference  \n",
       "415                 567.00        Conference  \n",
       "416                2163.67        Conference  \n",
       "417                2107.51        Conference  \n",
       "\n",
       "[418 rows x 6 columns]"
      ]
     },
     "execution_count": 5,
     "metadata": {},
     "output_type": "execute_result"
    }
   ],
   "source": [
    "travels_data"
   ]
  },
  {
   "cell_type": "code",
   "execution_count": null,
   "metadata": {},
   "outputs": [],
   "source": []
  }
 ],
 "metadata": {
  "kernelspec": {
   "display_name": "Python 3",
   "language": "python",
   "name": "python3"
  },
  "language_info": {
   "codemirror_mode": {
    "name": "ipython",
    "version": 3
   },
   "file_extension": ".py",
   "mimetype": "text/x-python",
   "name": "python",
   "nbconvert_exporter": "python",
   "pygments_lexer": "ipython3",
   "version": "3.11.5"
  },
  "orig_nbformat": 4
 },
 "nbformat": 4,
 "nbformat_minor": 2
}
